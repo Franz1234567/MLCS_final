{
 "cells": [
  {
   "cell_type": "code",
   "execution_count": 29,
   "metadata": {},
   "outputs": [],
   "source": [
    "import pandas as pd\n",
    "import matplotlib.pyplot as plt\n",
    "import numpy as np\n",
    "import seaborn as sns\n",
    "\n",
    "#remove limit of dataframe display\n",
    "pd.set_option('display.max_columns', None)\n",
    "pd.set_option('display.max_rows', None)\n",
    "\n"
   ]
  },
  {
   "cell_type": "code",
   "execution_count": 30,
   "metadata": {},
   "outputs": [],
   "source": [
    "# take csv file and return a dataframe\n",
    "path_file = 'Android_Malware_Benign.csv'\n",
    "dataset = pd.read_csv(path_file)\n",
    "# randomize order of rows with a seed\n",
    "dataset = dataset.sample(frac=1, random_state=42).reset_index(drop=True)"
   ]
  },
  {
   "cell_type": "code",
   "execution_count": null,
   "metadata": {},
   "outputs": [
    {
     "name": "stdout",
     "output_type": "stream",
     "text": [
      "ACCESS_PROVIDER\n",
      "ACCESS_SERVICE\n",
      "ACCESS_SHARED_DATA\n",
      "activityCalled\n",
      "ACTIVITY_RECOGNITION\n",
      "ANT\n",
      "ANT_ADMIN\n",
      "AUTORUN_MANAGER_LICENSE_MANAGER\n",
      "AUTORUN_MANAGER_LICENSE_SERVICE(.autorun)\n",
      "BIND_GET_INSTALL_REFERRER_SERVICE\n",
      "CHANGE_DISPLAY_MODE\n",
      "CHECK_LICENSE\n",
      "DATABASE_INTERFACE_SERVICE\n",
      "DOWNLOAD_SERVICE\n",
      "EXTENSION_PERMISSION\n",
      "FULLSCREEN.FULL\n",
      "GOOGLE_AUTH\n",
      "GOOGLE_PHOTOS\n",
      "JPUSH_MESSAGE\n",
      "MAPS_RECEIVE\n",
      "MESSAGE\n",
      "PERMISSION\n",
      "PERMISSION_RUN_TASKS\n",
      "PLUGIN\n",
      "READ\n",
      "READ_ATTACHMENT\n",
      "READ_AVESTTINGS\n",
      "READ_CONTENT_PROVIDER\n",
      "READ_DATA\n",
      "READ_DATABASES\n",
      "READ_GMAIL\n",
      "READ_GSERVICES\n",
      "READ_MESSAGES\n",
      "RECEIVE\n",
      "RECEIVE_SIGNED_DATA_RESULT\n",
      "RESPOND\n",
      "REQUEST\n",
      "SEND\n",
      "WRITE\n",
      "WRITE_AVSETTING\n",
      "WRITE_DATA\n",
      "WRITE_DATABASES\n",
      "android.permission.PROCESS_INCOMING_CALLS\n",
      "<class 'pandas.core.frame.DataFrame'>\n",
      "RangeIndex: 4464 entries, 0 to 4463\n",
      "Columns: 285 entries, ACCESS_ALL_DOWNLOADS to Label\n",
      "dtypes: int64(284), object(1)\n",
      "memory usage: 9.7+ MB\n",
      "None\n"
     ]
    }
   ],
   "source": [
    "# print(dataset.head(5))\n",
    "# print(dataset.info())\n",
    "# print(test)\n",
    "\n",
    "dataset_prepprocess = dataset.copy()\n",
    "\n",
    "for column in dataset.columns:\n",
    "    if dataset[column].nunique()== 1:\n",
    "        print(column)\n",
    "        dataset_prepprocess.drop(column, axis=1, inplace=True)\n"
   ]
  },
  {
   "cell_type": "code",
   "execution_count": null,
   "metadata": {},
   "outputs": [
    {
     "name": "stdout",
     "output_type": "stream",
     "text": [
      "<class 'pandas.core.frame.DataFrame'>\n",
      "RangeIndex: 4464 entries, 0 to 4463\n",
      "Columns: 285 entries, ACCESS_ALL_DOWNLOADS to Label\n",
      "dtypes: int64(284), object(1)\n",
      "memory usage: 9.7+ MB\n",
      "None\n",
      "<class 'pandas.core.frame.DataFrame'>\n",
      "RangeIndex: 4464 entries, 0 to 4463\n",
      "Columns: 328 entries, ACCESS_ALL_DOWNLOADS to Label\n",
      "dtypes: int64(327), object(1)\n",
      "memory usage: 11.2+ MB\n",
      "None\n"
     ]
    }
   ],
   "source": [
    "print(dataset_prepprocess.info())\n",
    "print(dataset.info())"
   ]
  },
  {
   "cell_type": "code",
   "execution_count": null,
   "metadata": {},
   "outputs": [],
   "source": [
    "print(dataset_prepprocess.head())"
   ]
  }
 ],
 "metadata": {
  "kernelspec": {
   "display_name": "Python 3",
   "language": "python",
   "name": "python3"
  },
  "language_info": {
   "codemirror_mode": {
    "name": "ipython",
    "version": 3
   },
   "file_extension": ".py",
   "mimetype": "text/x-python",
   "name": "python",
   "nbconvert_exporter": "python",
   "pygments_lexer": "ipython3",
   "version": "3.11.1"
  }
 },
 "nbformat": 4,
 "nbformat_minor": 2
}
